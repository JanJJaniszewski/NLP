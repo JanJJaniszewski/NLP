{
 "cells": [
  {
   "cell_type": "code",
   "execution_count": 4,
   "metadata": {
    "pycharm": {
     "is_executing": true,
     "name": "#%%\n"
    }
   },
   "outputs": [],
   "source": [
    "from datetime import datetime as dt\n",
    "import zipfile\n",
    "import os\n",
    "from os.path import join\n",
    "from config_dictionaries import company_name_mapping\n",
    "import pandas as pd\n",
    "import config as cf\n",
    "import re\n",
    "import shutil\n",
    "import pandas_datareader as pdr\n",
    "\n",
    "folders = os.listdir(cf.Z_Z_zipfolder)\n",
    "\n",
    "# Get metadata on calls\n",
    "company_names = [name.split('_')[0] for name in folders]"
   ]
  },
  {
   "cell_type": "code",
   "execution_count": 43,
   "metadata": {},
   "outputs": [],
   "source": []
  },
  {
   "cell_type": "code",
   "execution_count": 44,
   "metadata": {},
   "outputs": [],
   "source": [
    "for nam in company_names:\n",
    "    try:\n",
    "        company_name_mapping[re.sub(\"[^a-zA-Z]\", \"\", re.sub('THE ', '', nam.upper()).split(',')[0].split(' ')[0].split('-')[0].split('.')[0])]\n",
    "    except:\n",
    "        print(nam + ' --- ' + re.sub('THE ', '', nam.upper()).split(',')[0].split(' ')[0].split('-')[0].split('.')[0] + ' --- ' + re.sub(\"[^a-zA-Z]+\", \"\", nam.upper().split(' |.|-')[0]))"
   ]
  },
  {
   "cell_type": "code",
   "execution_count": null,
   "metadata": {},
   "outputs": [],
   "source": []
  }
 ],
 "metadata": {
  "kernelspec": {
   "display_name": "Python 3 (ipykernel)",
   "language": "python",
   "name": "python3"
  },
  "language_info": {
   "codemirror_mode": {
    "name": "ipython",
    "version": 3
   },
   "file_extension": ".py",
   "mimetype": "text/x-python",
   "name": "python",
   "nbconvert_exporter": "python",
   "pygments_lexer": "ipython3",
   "version": "3.9.12"
  }
 },
 "nbformat": 4,
 "nbformat_minor": 1
}